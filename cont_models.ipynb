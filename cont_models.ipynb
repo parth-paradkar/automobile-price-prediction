{
 "cells": [
  {
   "cell_type": "code",
   "execution_count": null,
   "metadata": {},
   "outputs": [],
   "source": [
    "# Goal: To predict the prices of cars using the continuous features of the available data\n",
    "\n",
    "import pandas as pd\n",
    "import seaborn as sns\n",
    "import numpy as np\n",
    "\n",
    "%matplotlib inline"
   ]
  },
  {
   "cell_type": "code",
   "execution_count": null,
   "metadata": {},
   "outputs": [],
   "source": [
    "train_df = pd.read_csv(\"train.csv\")\n",
    "test_df = pd.read_csv(\"test.csv\")\n",
    "train_df.head()"
   ]
  },
  {
   "cell_type": "code",
   "execution_count": null,
   "metadata": {},
   "outputs": [],
   "source": [
    "def clean_df(input_df):\n",
    "    df = input_df\n",
    "    df.replace('?', None)\n",
    "    df = df.drop(columns=['normalized-losses'])\n",
    "    df[\"horsepower\"] = df[\"horsepower\"].apply(lambda x: None if x == '?' else float(x))\n",
    "    df[\"peak-rpm\"] = df[\"peak-rpm\"].apply(lambda x: None if x == '?' else float(x))\n",
    "    df[\"city-mpg\"] = df[\"city-mpg\"].apply(lambda x: None if x == '?' else float(x))\n",
    "    df[\"highway-mpg\"] = df[\"highway-mpg\"].apply(lambda x: None if x == '?' else float(x))\n",
    "    df[\"price\"] = df[\"price\"].apply(lambda x: None if x == '?' else float(x))\n",
    "    df = df.dropna()\n",
    "    return df"
   ]
  },
  {
   "cell_type": "code",
   "execution_count": null,
   "metadata": {},
   "outputs": [],
   "source": [
    "train_df = clean_df(train_df)\n",
    "test_df = clean_df(test_df)"
   ]
  },
  {
   "cell_type": "code",
   "execution_count": null,
   "metadata": {},
   "outputs": [],
   "source": [
    "# We choose log of price as the target parameter to handle the skewed data\n",
    "train_df[\"log_price\"] = np.log(train_df[\"price\"])\n",
    "test_df[\"log_price\"] = np.log(test_df[\"price\"])"
   ]
  },
  {
   "cell_type": "code",
   "execution_count": null,
   "metadata": {},
   "outputs": [],
   "source": [
    "# After exploratory data analysis, we discover the relevant parameters to be taken into consideration\n",
    "# Introducing new features in the data:\n",
    "train_df[\"city-mpg_log\"] = np.log(train_df[\"city-mpg\"])\n",
    "test_df[\"city-mpg_log\"] = np.log(test_df[\"city-mpg\"])\n",
    "\n",
    "train_df[\"engine-size_sqroot\"] = np.array(train_df[\"city-mpg\"]) ** 0.5\n",
    "test_df[\"engine-size_sqroot\"] = np.array(test_df[\"city-mpg\"]) ** 0.5\n",
    "\n",
    "train_df[\"hp_log_sq\"] = np.log(np.array(train_df[\"horsepower\"])) ** 2\n",
    "test_df[\"hp_log_sq\"] = np.log(np.array(test_df[\"horsepower\"])) ** 2"
   ]
  },
  {
   "cell_type": "code",
   "execution_count": null,
   "metadata": {},
   "outputs": [],
   "source": [
    "rel_features = ['log_price', 'city-mpg_log', 'curb-weight', \"engine-size_sqroot\",\"wheel-base\", \"width\", \"hp_log_sq\"]\n",
    "\n",
    "new_train_df = train_df.filter(rel_features)\n",
    "new_test_df = test_df.filter(rel_features)"
   ]
  },
  {
   "cell_type": "code",
   "execution_count": null,
   "metadata": {},
   "outputs": [],
   "source": [
    "y_train = new_train_df[\"log_price\"]\n",
    "X_train = new_train_df.drop([\"log_price\"], axis=1)\n",
    "y_test = new_test_df[\"log_price\"]\n",
    "X_test = new_test_df.drop([\"log_price\"], axis=1)"
   ]
  },
  {
   "cell_type": "code",
   "execution_count": null,
   "metadata": {},
   "outputs": [],
   "source": [
    "# importing the required models\n",
    "from sklearn.linear_model import LinearRegression\n",
    "from sklearn.ensemble import RandomForestRegressor\n",
    "from xgboost import XGBRegressor"
   ]
  },
  {
   "cell_type": "code",
   "execution_count": null,
   "metadata": {},
   "outputs": [],
   "source": [
    "# Implementing linear regression\n",
    "lin_regressor = LinearRegression()\n",
    "lin_regressor.fit(X_train, y_train)\n",
    "lin_regressor.score(X_test, y_test)"
   ]
  },
  {
   "cell_type": "code",
   "execution_count": null,
   "metadata": {},
   "outputs": [],
   "source": [
    "# Implmenting random forest regression\n",
    "rf_regressor = RandomForestRegressor()\n",
    "rf_regressor.fit(X_train, y_train)\n",
    "rf_regressor.score(X_test, y_test)"
   ]
  },
  {
   "cell_type": "code",
   "execution_count": null,
   "metadata": {},
   "outputs": [],
   "source": [
    "# Usinng XGBoost to improve accuracy\n",
    "xgb_regressor = XGBRegressor()\n",
    "xgb_regressor.fit(X_train, y_train)\n",
    "xgb_regressor.score(X_test, y_test)"
   ]
  },
  {
   "cell_type": "code",
   "execution_count": null,
   "metadata": {},
   "outputs": [],
   "source": []
  }
 ],
 "metadata": {
  "kernelspec": {
   "display_name": "Python 3",
   "language": "python",
   "name": "python3"
  },
  "language_info": {
   "codemirror_mode": {
    "name": "ipython",
    "version": 3
   },
   "file_extension": ".py",
   "mimetype": "text/x-python",
   "name": "python",
   "nbconvert_exporter": "python",
   "pygments_lexer": "ipython3",
   "version": "3.7.3"
  }
 },
 "nbformat": 4,
 "nbformat_minor": 2
}
